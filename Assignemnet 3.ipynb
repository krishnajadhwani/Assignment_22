{
 "cells": [
  {
   "cell_type": "markdown",
   "id": "6ea0ed88-6868-4bcd-917c-2713fe544b17",
   "metadata": {},
   "source": [
    "Q1.create a python program to sort the given list of tuples based on integer value using a lamba function"
   ]
  },
  {
   "cell_type": "code",
   "execution_count": 1,
   "id": "e3ac6559-59b5-41db-bf05-47f50245cc3b",
   "metadata": {},
   "outputs": [
    {
     "name": "stdout",
     "output_type": "stream",
     "text": [
      "[(1, 'banana'), (2, 'grape'), (3, 'apple'), (5, 'orange')]\n"
     ]
    }
   ],
   "source": [
    "# Sample list of tuples with integer values\n",
    "sample_list = [(3, \"apple\"), (1, \"banana\"), (5, \"orange\"), (2, \"grape\")]\n",
    "\n",
    "# Sorting the list based on the first element (integer value) of each tuple\n",
    "sorted_list = sorted(sample_list, key=lambda x: x[0])\n",
    "\n",
    "# Displaying the sorted list\n",
    "print(sorted_list)"
   ]
  },
  {
   "cell_type": "markdown",
   "id": "ccf4b2e9-36a6-4c18-82ea-1320327ff4eb",
   "metadata": {},
   "source": [
    "Q2. Write a python program to find the square of all the numbers in the given list of intengers using lambda and map function. [1,2,3,4,5,6,7,8,9,10]"
   ]
  },
  {
   "cell_type": "code",
   "execution_count": 3,
   "id": "a1986534-c6d5-41d5-b405-cae9b61ecf12",
   "metadata": {},
   "outputs": [
    {
     "name": "stdout",
     "output_type": "stream",
     "text": [
      "[1, 4, 9, 16, 25, 36, 49, 64, 81, 100]\n"
     ]
    }
   ],
   "source": [
    "# Sample list of integers\n",
    "numbers = [1, 2, 3, 4, 5, 6, 7, 8, 9, 10]\n",
    "\n",
    "# Using map() with a lambda function to find the square of each number\n",
    "squared_numbers = list(map(lambda x: x ** 2, numbers))\n",
    "\n",
    "# Displaying the squared numbers\n",
    "print(squared_numbers)"
   ]
  },
  {
   "cell_type": "markdown",
   "id": "0de7993a-b1c9-45c5-af6a-5f84e20e7667",
   "metadata": {},
   "source": [
    "Q3. Write a python program to convert the given list of integer into a tuple of strings. Use map and lambda functions?"
   ]
  },
  {
   "cell_type": "code",
   "execution_count": 4,
   "id": "c0307c3a-05e4-49f0-9216-d7d730686d02",
   "metadata": {},
   "outputs": [
    {
     "name": "stdout",
     "output_type": "stream",
     "text": [
      "('1', '2', '3', '4', '5')\n"
     ]
    }
   ],
   "source": [
    "# Sample list of integers\n",
    "numbers = [1, 2, 3, 4, 5]\n",
    "\n",
    "# Using map() with a lambda function to convert each integer to a string\n",
    "string_tuple = tuple(map(lambda x: str(x), numbers))\n",
    "\n",
    "# Displaying the tuple of strings\n",
    "print(string_tuple)"
   ]
  },
  {
   "cell_type": "markdown",
   "id": "4444de26-4fa3-4592-80f1-cf0439fd738a",
   "metadata": {},
   "source": [
    "Q4. Write  apyhton program using reduce function to compute the product of a list containing numbers from 1 to 25"
   ]
  },
  {
   "cell_type": "code",
   "execution_count": 5,
   "id": "f73f4014-cda9-4511-9bae-081b8dc4cef7",
   "metadata": {},
   "outputs": [
    {
     "name": "stdout",
     "output_type": "stream",
     "text": [
      "15511210043330985984000000\n"
     ]
    }
   ],
   "source": [
    "from functools import reduce\n",
    "\n",
    "# Function to calculate the product of two numbers\n",
    "def multiply(x, y):\n",
    "    return x * y\n",
    "\n",
    "# List containing numbers from 1 to 25\n",
    "numbers = list(range(1, 26))\n",
    "\n",
    "# Using reduce() to compute the product of the numbers\n",
    "product = reduce(multiply, numbers)\n",
    "\n",
    "# Displaying the product\n",
    "print(product)"
   ]
  },
  {
   "cell_type": "markdown",
   "id": "de830e73-f5e4-4609-9e87-d8e1b6fbd16c",
   "metadata": {},
   "source": [
    "Q5. Write a pyhton program to fliter the number in a given list that are divible by 2 and 3 using the fliter function [2,3,6,9,27,60,90,120,55,46]"
   ]
  },
  {
   "cell_type": "code",
   "execution_count": 6,
   "id": "86b0bd54-7e0c-4d53-ada0-bef0e5fecd99",
   "metadata": {},
   "outputs": [
    {
     "name": "stdout",
     "output_type": "stream",
     "text": [
      "[6, 60, 90, 120]\n"
     ]
    }
   ],
   "source": [
    "# Sample list of numbers\n",
    "numbers = [2, 3, 6, 9, 27, 60, 90, 120, 55, 46]\n",
    "\n",
    "# Using filter() with a lambda function to filter numbers divisible by both 2 and 3\n",
    "filtered_numbers = list(filter(lambda x: x % 2 == 0 and x % 3 == 0, numbers))\n",
    "\n",
    "# Displaying the filtered numbers\n",
    "print(filtered_numbers)"
   ]
  },
  {
   "cell_type": "markdown",
   "id": "f7db1b51-99f1-4535-8786-993eed804abc",
   "metadata": {},
   "source": [
    "Q6. Write a python program to find palindromes in the given  list  of strings using lambda and fliter function. [\"python\", 'php, \"aba\", \"radar\", \"level\"']"
   ]
  },
  {
   "cell_type": "code",
   "execution_count": 8,
   "id": "2d5d03ba-9c65-4760-82ce-72b5ce38567b",
   "metadata": {},
   "outputs": [
    {
     "name": "stdout",
     "output_type": "stream",
     "text": [
      "['php', 'aba', 'radar', 'level']\n"
     ]
    }
   ],
   "source": [
    "# Sample list of strings\n",
    "strings_list = [\"python\", \"php\", \"aba\", \"radar\", \"level\"]\n",
    "\n",
    "# Using filter() with a lambda function to find palindromes\n",
    "palindromes = list(filter(lambda x: x == x[::-1], strings_list))\n",
    "\n",
    "# Displaying the palindromes\n",
    "print(palindromes)"
   ]
  },
  {
   "cell_type": "code",
   "execution_count": null,
   "id": "83fc5d7a-a584-4b8e-bc04-9e6e379aae7e",
   "metadata": {},
   "outputs": [],
   "source": []
  }
 ],
 "metadata": {
  "kernelspec": {
   "display_name": "Python 3 (ipykernel)",
   "language": "python",
   "name": "python3"
  },
  "language_info": {
   "codemirror_mode": {
    "name": "ipython",
    "version": 3
   },
   "file_extension": ".py",
   "mimetype": "text/x-python",
   "name": "python",
   "nbconvert_exporter": "python",
   "pygments_lexer": "ipython3",
   "version": "3.10.8"
  }
 },
 "nbformat": 4,
 "nbformat_minor": 5
}
